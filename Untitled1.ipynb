{
 "cells": [
  {
   "cell_type": "code",
   "execution_count": null,
   "metadata": {},
   "outputs": [
    {
     "name": "stdout",
     "output_type": "stream",
     "text": [
      " * Serving Flask app \"__main__\" (lazy loading)\n",
      " * Environment: production\n",
      "   WARNING: This is a development server. Do not use it in a production deployment.\n",
      "   Use a production WSGI server instead.\n",
      " * Debug mode: off\n"
     ]
    },
    {
     "name": "stderr",
     "output_type": "stream",
     "text": [
      " * Running on http://140.134.79.128:40130/ (Press CTRL+C to quit)\n",
      "180.217.192.111 - - [19/Jun/2020 14:30:08] \"POST /club HTTP/1.1\" 200 -\n"
     ]
    },
    {
     "name": "stdout",
     "output_type": "stream",
     "text": [
      "dhdjdjdjd\n"
     ]
    },
    {
     "name": "stderr",
     "output_type": "stream",
     "text": [
      "140.134.18.33 - - [19/Jun/2020 14:30:20] \"GET /activity HTTP/1.1\" 200 -\n",
      "140.134.18.33 - - [19/Jun/2020 14:30:31] \"GET /club HTTP/1.1\" 200 -\n",
      "140.134.18.33 - - [19/Jun/2020 14:30:38] \"GET /club HTTP/1.1\" 200 -\n",
      "140.134.18.33 - - [19/Jun/2020 14:32:35] \"GET /activity HTTP/1.1\" 200 -\n",
      "180.217.192.111 - - [19/Jun/2020 14:43:19] \"GET /club HTTP/1.1\" 200 -\n",
      "180.217.192.111 - - [19/Jun/2020 14:43:19] \"GET /activity HTTP/1.1\" 200 -\n"
     ]
    }
   ],
   "source": [
    "from flask import Flask, render_template, jsonify, redirect, send_from_directory, request, url_for\n",
    "import  pymysql \n",
    "import json\n",
    "import datetime\n",
    "app = Flask(__name__)\n",
    "\n",
    "def myconverter(o):\n",
    "    if isinstance(o, datetime.datetime):\n",
    "        return o.__str__()\n",
    "\n",
    "def get_club_json():\n",
    "    conn = pymysql.connect(host='127.0.0.1', port=3306, user='root', passwd='root', db='afterclasscalendar', charset='utf8')\n",
    "    cursor = conn.cursor()\n",
    "    query = \"select * from 社團\"\n",
    "    cursor.execute(query)\n",
    "    result = cursor.fetchall()\n",
    "    clubs = []\n",
    "\n",
    "    for row in result:\n",
    "        clubs.append({'id': row[0], 'name': row[1], 'type': row[2], 'office': row[3], 'session': row[4], 'teacher': row[5], 'fee': row[6], 'introduction': row[7], 'logo': row[8]})\n",
    "    return json.dumps(clubs)\n",
    "# print(json)\n",
    "\n",
    "def get_activity_json():\n",
    "    conn = pymysql.connect(host='127.0.0.1', port=3306, user='root', passwd='root', db='afterclasscalendar', charset='utf8')\n",
    "    cursor = conn.cursor()\n",
    "    query = \"select * from 活動 order by 活動時間 desc\"\n",
    "    cursor.execute(query)\n",
    "    result = cursor.fetchall()\n",
    "    activities = []\n",
    "    for row in result:\n",
    "        activities.append({'id': row[0], 'name': row[1], 'time': row[2], 'location': row[3], 'fee': row[4], 'clubId': row[5], 'url': row[6]})\n",
    "#     print(activities)\n",
    "#     return json.dumps(activities)\n",
    "    return json.dumps(activities, default = myconverter)\n",
    "\n",
    "\n",
    "@app.route('/club',methods=['GET','POST'])\n",
    "def hello():\n",
    "    if request.method=='POST':\n",
    "        get_numb=request.get_json()\n",
    "#         get_numb2=request.data()\n",
    "#         get_numb3=request.form.json()\n",
    "#         get_numb4=request.json()\n",
    "        print(get_numb[\"search\"])\n",
    "#         print(get_numb2)\n",
    "#         print(get_numb3)\n",
    "#         print(get_numb4)\n",
    "        return '123' \n",
    "    return get_club_json()\n",
    "\n",
    "@app.route('/activity',methods=['GET','POST'])\n",
    "def hello2():\n",
    "    if request.method=='POST':\n",
    "        return \"123\"\n",
    "    return get_activity_json()\n",
    "\n",
    "\n",
    "if __name__ == '__main__':\n",
    "    app.run(debug=False, host='140.134.79.128', port='40130')\n",
    "    \n",
    "cursor.close()"
   ]
  },
  {
   "cell_type": "code",
   "execution_count": null,
   "metadata": {},
   "outputs": [],
   "source": []
  },
  {
   "cell_type": "code",
   "execution_count": null,
   "metadata": {},
   "outputs": [],
   "source": []
  }
 ],
 "metadata": {
  "kernelspec": {
   "display_name": "Python 3",
   "language": "python",
   "name": "python3"
  },
  "language_info": {
   "codemirror_mode": {
    "name": "ipython",
    "version": 3
   },
   "file_extension": ".py",
   "mimetype": "text/x-python",
   "name": "python",
   "nbconvert_exporter": "python",
   "pygments_lexer": "ipython3",
   "version": "3.6.9"
  }
 },
 "nbformat": 4,
 "nbformat_minor": 4
}
