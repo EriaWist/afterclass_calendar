{
 "cells": [
  {
   "cell_type": "code",
   "execution_count": null,
   "metadata": {},
   "outputs": [
    {
     "name": "stdout",
     "output_type": "stream",
     "text": [
      " * Serving Flask app \"__main__\" (lazy loading)\n",
      " * Environment: production\n",
      "   WARNING: This is a development server. Do not use it in a production deployment.\n",
      "   Use a production WSGI server instead.\n",
      " * Debug mode: off\n"
     ]
    },
    {
     "name": "stderr",
     "output_type": "stream",
     "text": [
      " * Running on http://140.134.79.128:40128/ (Press CTRL+C to quit)\n",
      "36.232.119.130 - - [29/May/2020 21:27:06] \"GET / HTTP/1.1\" 200 -\n",
      "36.232.119.130 - - [29/May/2020 21:27:07] \"GET / HTTP/1.1\" 200 -\n",
      "36.232.119.130 - - [29/May/2020 21:27:08] \"GET / HTTP/1.1\" 200 -\n",
      "36.232.119.130 - - [29/May/2020 21:27:08] \"GET / HTTP/1.1\" 200 -\n",
      "36.232.119.130 - - [29/May/2020 21:27:08] \"GET / HTTP/1.1\" 200 -\n",
      "36.232.119.130 - - [29/May/2020 21:27:08] \"GET / HTTP/1.1\" 200 -\n",
      "36.232.119.130 - - [29/May/2020 21:27:08] \"GET / HTTP/1.1\" 200 -\n",
      "36.232.119.130 - - [29/May/2020 21:27:08] \"GET / HTTP/1.1\" 200 -\n",
      "36.232.119.130 - - [29/May/2020 21:27:09] \"GET / HTTP/1.1\" 200 -\n",
      "36.232.119.130 - - [29/May/2020 21:27:10] \"GET / HTTP/1.1\" 200 -\n",
      "36.232.119.130 - - [29/May/2020 21:27:11] \"GET / HTTP/1.1\" 200 -\n",
      "36.232.119.130 - - [29/May/2020 21:27:14] \"POST / HTTP/1.1\" 200 -\n"
     ]
    },
    {
     "name": "stdout",
     "output_type": "stream",
     "text": [
      "select * \n",
      "from 社團 \n",
      "where 性質 = '志工隊'\n"
     ]
    },
    {
     "name": "stderr",
     "output_type": "stream",
     "text": [
      "36.232.119.130 - - [29/May/2020 21:27:15] \"POST / HTTP/1.1\" 200 -\n"
     ]
    },
    {
     "name": "stdout",
     "output_type": "stream",
     "text": [
      "select * \n",
      "from 社團 \n",
      "where 性質 = '志工隊'\n"
     ]
    },
    {
     "name": "stderr",
     "output_type": "stream",
     "text": [
      "36.232.119.130 - - [29/May/2020 21:27:15] \"POST / HTTP/1.1\" 200 -\n",
      "36.232.119.130 - - [29/May/2020 21:27:15] \"POST / HTTP/1.1\" 200 -\n"
     ]
    },
    {
     "name": "stdout",
     "output_type": "stream",
     "text": [
      "select * \n",
      "from 社團 \n",
      "where 性質 = '志工隊'\n",
      "select * \n",
      "from 社團 \n",
      "where 性質 = '志工隊'\n"
     ]
    },
    {
     "name": "stderr",
     "output_type": "stream",
     "text": [
      "36.232.119.130 - - [29/May/2020 21:27:16] \"POST / HTTP/1.1\" 200 -\n"
     ]
    },
    {
     "name": "stdout",
     "output_type": "stream",
     "text": [
      "select * \n",
      "from 社團 \n",
      "where 性質 = '志工隊'\n"
     ]
    },
    {
     "name": "stderr",
     "output_type": "stream",
     "text": [
      "36.232.119.130 - - [29/May/2020 21:27:16] \"POST / HTTP/1.1\" 200 -\n"
     ]
    },
    {
     "name": "stdout",
     "output_type": "stream",
     "text": [
      "select * \n",
      "from 社團 \n",
      "where 性質 = '志工隊'\n"
     ]
    },
    {
     "name": "stderr",
     "output_type": "stream",
     "text": [
      "36.232.119.130 - - [29/May/2020 21:27:16] \"POST / HTTP/1.1\" 200 -\n",
      "36.232.119.130 - - [29/May/2020 21:27:16] \"POST / HTTP/1.1\" 200 -\n"
     ]
    },
    {
     "name": "stdout",
     "output_type": "stream",
     "text": [
      "select * \n",
      "from 社團 \n",
      "where 性質 = '志工隊'\n",
      "select * \n",
      "from 社團 \n",
      "where 性質 = '志工隊'\n"
     ]
    },
    {
     "name": "stderr",
     "output_type": "stream",
     "text": [
      "36.232.119.130 - - [29/May/2020 21:27:37] \"POST / HTTP/1.1\" 200 -\n"
     ]
    },
    {
     "name": "stdout",
     "output_type": "stream",
     "text": [
      "select * \n",
      "from 社團 \n",
      "where 性質 = '康樂性社團'\n"
     ]
    },
    {
     "name": "stderr",
     "output_type": "stream",
     "text": [
      "180.217.71.192 - - [29/May/2020 21:31:58] \"POST / HTTP/1.1\" 200 -\n"
     ]
    },
    {
     "name": "stdout",
     "output_type": "stream",
     "text": [
      "select * \n",
      "from 社團 \n",
      "where 性質 = '志工隊'\n"
     ]
    }
   ],
   "source": [
    "from flask import Flask, render_template, jsonify, redirect, send_from_directory, request, url_for\n",
    "import  pymysql \n",
    "\n",
    "conn = pymysql.connect(host='127.0.0.1', port=3306, user='root', passwd='root', db='afterclasscalendar', charset='utf8')\n",
    "app = Flask(__name__)\n",
    "cursor = conn.cursor()\n",
    "cursor.execute(\"select * from 社團\")\n",
    "# 獲取第一行資料\n",
    "# row_1 = cursor.fetchone()\n",
    "row_n = cursor.fetchmany(169)\n",
    "ahhggh = 'row_1'\n",
    "structhhh =  str(row_n) + \"\\n\"\n",
    "# print(structhhh)\n",
    "order = \"\\\n",
    "select * \\\n",
    "from 社團 \\\n",
    "where 性質 = '志工隊'\"\n",
    "\n",
    "@app.route('/',methods=['GET','POST'])\n",
    "def hello():\n",
    "    if(request.method == 'POST'):\n",
    "        order = request.form.get('select')\n",
    "        cursor.execute(order)\n",
    "        row_1 = cursor.fetchone()\n",
    "        strsql = str(row_1)\n",
    "        print(order)\n",
    "        return render_template('abc.html', username=order) + strsql\n",
    "    return render_template('abc.html', username=order)\n",
    "\n",
    "\n",
    "@app.route('/login', methods=['POST'])\n",
    "def login():\n",
    "    cursor.execute(order)\n",
    "    # 獲取第一行資料\n",
    "    # row_1 = cursor.fetchone()\n",
    "    row_n = cursor.fetcone()\n",
    "    ahhggh = 'row_1'\n",
    "    structhhh =  str(row_n) \n",
    "    return structhhh\n",
    "\n",
    "\n",
    "if __name__ == '__main__':\n",
    "    app.debug = True\n",
    "    app.run(debug=False, host='140.134.79.128', port='40128')"
   ]
  },
  {
   "cell_type": "code",
   "execution_count": null,
   "metadata": {},
   "outputs": [],
   "source": []
  },
  {
   "cell_type": "code",
   "execution_count": null,
   "metadata": {},
   "outputs": [],
   "source": []
  }
 ],
 "metadata": {
  "kernelspec": {
   "display_name": "Python 3",
   "language": "python",
   "name": "python3"
  },
  "language_info": {
   "codemirror_mode": {
    "name": "ipython",
    "version": 3
   },
   "file_extension": ".py",
   "mimetype": "text/x-python",
   "name": "python",
   "nbconvert_exporter": "python",
   "pygments_lexer": "ipython3",
   "version": "3.6.9"
  }
 },
 "nbformat": 4,
 "nbformat_minor": 4
}
