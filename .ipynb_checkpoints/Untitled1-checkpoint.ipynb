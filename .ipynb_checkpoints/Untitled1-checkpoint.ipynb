{
 "cells": [
  {
   "cell_type": "code",
   "execution_count": 131,
   "metadata": {},
   "outputs": [
    {
     "ename": "SyntaxError",
     "evalue": "invalid syntax (<ipython-input-131-a267fe03ee8b>, line 9)",
     "output_type": "error",
     "traceback": [
      "\u001b[0;36m  File \u001b[0;32m\"<ipython-input-131-a267fe03ee8b>\"\u001b[0;36m, line \u001b[0;32m9\u001b[0m\n\u001b[0;31m    def allclub(Cursor cursor):\u001b[0m\n\u001b[0m                            ^\u001b[0m\n\u001b[0;31mSyntaxError\u001b[0m\u001b[0;31m:\u001b[0m invalid syntax\n"
     ]
    }
   ],
   "source": [
    "from flask import Flask, render_template, jsonify, redirect, send_from_directory, request, url_for\n",
    "import  pymysql \n",
    "import json\n",
    "\n",
    "conn = pymysql.connect(host='127.0.0.1', port=3306, user='root', passwd='root', db='afterclasscalendar', charset='utf8')\n",
    "app = Flask(__name__)\n",
    "cursor = conn.cursor()\n",
    "query = \"select * from 社團\"\n",
    "cursor.execute(query)\n",
    "result = cursor.fetchall()\n",
    "clubs = []\n",
    "\n",
    "for row in result:\n",
    "    clubs.append({'id': row[0], 'name': row[1], 'type': row[2], 'office': row[3], 'session': row[4], 'teacher': row[5], 'fee': row[6], 'introduction': row[7], 'logo': row[8]})\n",
    "\n",
    "json = json.dumps(clubs)\n",
    "# print(json)\n",
    "\n",
    "@app.route('/club',methods=['GET','POST'])\n",
    "def hello():\n",
    "    return json\n",
    "\n",
    "\n",
    "if __name__ == '__main__':\n",
    "    app.debug = True\n",
    "    app.run(debug=False, host='140.134.79.128', port='40130')\n",
    "    \n",
    "cursor.close()"
   ]
  },
  {
   "cell_type": "code",
   "execution_count": null,
   "metadata": {},
   "outputs": [],
   "source": []
  },
  {
   "cell_type": "code",
   "execution_count": null,
   "metadata": {},
   "outputs": [],
   "source": []
  }
 ],
 "metadata": {
  "kernelspec": {
   "display_name": "Python 3",
   "language": "python",
   "name": "python3"
  },
  "language_info": {
   "codemirror_mode": {
    "name": "ipython",
    "version": 3
   },
   "file_extension": ".py",
   "mimetype": "text/x-python",
   "name": "python",
   "nbconvert_exporter": "python",
   "pygments_lexer": "ipython3",
   "version": "3.6.9"
  }
 },
 "nbformat": 4,
 "nbformat_minor": 4
}
